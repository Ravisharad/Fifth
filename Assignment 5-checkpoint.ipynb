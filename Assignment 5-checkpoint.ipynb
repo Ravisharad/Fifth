{
 "cells": [
  {
   "cell_type": "code",
   "execution_count": null,
   "id": "f4a00814",
   "metadata": {},
   "outputs": [],
   "source": [
    "# 1. What does an empty dictionary's code look like?"
   ]
  },
  {
   "cell_type": "code",
   "execution_count": 1,
   "id": "929fee04",
   "metadata": {},
   "outputs": [],
   "source": [
    "new_dict = {}"
   ]
  },
  {
   "cell_type": "code",
   "execution_count": 2,
   "id": "4d83b535",
   "metadata": {},
   "outputs": [
    {
     "data": {
      "text/plain": [
       "dict"
      ]
     },
     "execution_count": 2,
     "metadata": {},
     "output_type": "execute_result"
    }
   ],
   "source": [
    "type(new_dict)"
   ]
  },
  {
   "cell_type": "code",
   "execution_count": null,
   "id": "e04af875",
   "metadata": {},
   "outputs": [],
   "source": [
    "#2. What is the value of a dictionary value with the key 'foo' and the value 42?"
   ]
  },
  {
   "cell_type": "code",
   "execution_count": 5,
   "id": "abdb2ad7",
   "metadata": {},
   "outputs": [],
   "source": [
    "dict1 = {'foo':42}"
   ]
  },
  {
   "cell_type": "code",
   "execution_count": 6,
   "id": "127c7f59",
   "metadata": {},
   "outputs": [
    {
     "data": {
      "text/plain": [
       "{'foo': 42}"
      ]
     },
     "execution_count": 6,
     "metadata": {},
     "output_type": "execute_result"
    }
   ],
   "source": [
    "dict1"
   ]
  },
  {
   "cell_type": "code",
   "execution_count": null,
   "id": "65ccb43d",
   "metadata": {},
   "outputs": [],
   "source": [
    "# 3. What is the most significant distinction between a dictionary and a list?"
   ]
  },
  {
   "cell_type": "code",
   "execution_count": null,
   "id": "c86dbd05",
   "metadata": {},
   "outputs": [],
   "source": [
    "list form values at indexes in form of array, they have elements in []\n",
    "dictionary stores values in key value pairs. they have elements in {}"
   ]
  },
  {
   "cell_type": "code",
   "execution_count": null,
   "id": "64759342",
   "metadata": {},
   "outputs": [],
   "source": [
    "#q4. What happens if you try to access spam['foo'] if spam is {'bar': 100}?"
   ]
  },
  {
   "cell_type": "code",
   "execution_count": 7,
   "id": "ae13dde2",
   "metadata": {},
   "outputs": [],
   "source": [
    "spam = {'bar': 100}"
   ]
  },
  {
   "cell_type": "code",
   "execution_count": 8,
   "id": "7a42cf32",
   "metadata": {},
   "outputs": [
    {
     "ename": "KeyError",
     "evalue": "'foo'",
     "output_type": "error",
     "traceback": [
      "\u001b[1;31m---------------------------------------------------------------------------\u001b[0m",
      "\u001b[1;31mKeyError\u001b[0m                                  Traceback (most recent call last)",
      "\u001b[1;32m<ipython-input-8-9b5a94d1de8d>\u001b[0m in \u001b[0;36m<module>\u001b[1;34m\u001b[0m\n\u001b[1;32m----> 1\u001b[1;33m \u001b[0mspam\u001b[0m\u001b[1;33m[\u001b[0m\u001b[1;34m'foo'\u001b[0m\u001b[1;33m]\u001b[0m\u001b[1;33m\u001b[0m\u001b[1;33m\u001b[0m\u001b[0m\n\u001b[0m",
      "\u001b[1;31mKeyError\u001b[0m: 'foo'"
     ]
    }
   ],
   "source": [
    "spam['foo']"
   ]
  },
  {
   "cell_type": "code",
   "execution_count": null,
   "id": "ec8bd8d5",
   "metadata": {},
   "outputs": [],
   "source": [
    "# 5. If a dictionary is stored in spam, what is the difference between the expressions 'cat' in spam and 'cat'\n",
    "in spam.keys()?"
   ]
  },
  {
   "cell_type": "code",
   "execution_count": 9,
   "id": "a931f19c",
   "metadata": {},
   "outputs": [],
   "source": [
    "spam = {'cat':740}\n",
    "# one is giving value and other is giving key in output"
   ]
  },
  {
   "cell_type": "code",
   "execution_count": 14,
   "id": "d192267b",
   "metadata": {},
   "outputs": [
    {
     "data": {
      "text/plain": [
       "740"
      ]
     },
     "execution_count": 14,
     "metadata": {},
     "output_type": "execute_result"
    }
   ],
   "source": [
    "spam['cat']"
   ]
  },
  {
   "cell_type": "code",
   "execution_count": 17,
   "id": "04cae97d",
   "metadata": {},
   "outputs": [
    {
     "data": {
      "text/plain": [
       "dict_keys(['cat'])"
      ]
     },
     "execution_count": 17,
     "metadata": {},
     "output_type": "execute_result"
    }
   ],
   "source": [
    "spam.keys()"
   ]
  },
  {
   "cell_type": "code",
   "execution_count": null,
   "id": "225bd668",
   "metadata": {},
   "outputs": [],
   "source": [
    "6. If a dictionary is stored in spam, what is the difference between the expressions 'cat'\n",
    "in spam and 'cat' in spam.values()?\n",
    "#'cat' in spam checks for key \n",
    "#cat.values check for value 'cat'"
   ]
  },
  {
   "cell_type": "code",
   "execution_count": null,
   "id": "264a5e8b",
   "metadata": {},
   "outputs": [],
   "source": [
    "7. What is a shortcut for the following code?\n",
    "if 'color' not in spam:\n",
    "spam['color'] = 'black'\n",
    "\n"
   ]
  },
  {
   "cell_type": "code",
   "execution_count": 25,
   "id": "4c1d3cdd",
   "metadata": {},
   "outputs": [
    {
     "data": {
      "text/plain": [
       "'black'"
      ]
     },
     "execution_count": 25,
     "metadata": {},
     "output_type": "execute_result"
    }
   ],
   "source": [
    "spam.setdefault('color', 'black')"
   ]
  },
  {
   "cell_type": "code",
   "execution_count": 26,
   "id": "07087d50",
   "metadata": {},
   "outputs": [
    {
     "data": {
      "text/plain": [
       "{'cat': 740, False: None, 'color': 'black'}"
      ]
     },
     "execution_count": 26,
     "metadata": {},
     "output_type": "execute_result"
    }
   ],
   "source": [
    "spam"
   ]
  },
  {
   "cell_type": "code",
   "execution_count": null,
   "id": "f2def672",
   "metadata": {},
   "outputs": [],
   "source": [
    "#8. How do you \"pretty print\" dictionary values using which module and function?"
   ]
  },
  {
   "cell_type": "code",
   "execution_count": null,
   "id": "2d3a6ce0",
   "metadata": {},
   "outputs": [],
   "source": [
    "pprint is the module having function pprint.pprint() which is used to pretty print dctionary values.\n"
   ]
  }
 ],
 "metadata": {
  "kernelspec": {
   "display_name": "Python 3",
   "language": "python",
   "name": "python3"
  },
  "language_info": {
   "codemirror_mode": {
    "name": "ipython",
    "version": 3
   },
   "file_extension": ".py",
   "mimetype": "text/x-python",
   "name": "python",
   "nbconvert_exporter": "python",
   "pygments_lexer": "ipython3",
   "version": "3.8.8"
  }
 },
 "nbformat": 4,
 "nbformat_minor": 5
}
